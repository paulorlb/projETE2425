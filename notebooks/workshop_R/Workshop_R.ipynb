{
 "cells": [
  {
   "cell_type": "code",
   "execution_count": 1,
   "metadata": {
    "vscode": {
     "languageId": "r"
    }
   },
   "outputs": [
    {
     "name": "stderr",
     "output_type": "stream",
     "text": [
      "-- \u001b[1mAttaching core tidyverse packages\u001b[22m ------------------------ tidyverse 2.0.0 --\n",
      "\u001b[32mv\u001b[39m \u001b[34mdplyr    \u001b[39m 1.1.4     \u001b[32mv\u001b[39m \u001b[34mreadr    \u001b[39m 2.1.5\n",
      "\u001b[32mv\u001b[39m \u001b[34mforcats  \u001b[39m 1.0.0     \u001b[32mv\u001b[39m \u001b[34mstringr  \u001b[39m 1.5.0\n",
      "\u001b[32mv\u001b[39m \u001b[34mggplot2  \u001b[39m 3.4.2     \u001b[32mv\u001b[39m \u001b[34mtibble   \u001b[39m 3.2.1\n",
      "\u001b[32mv\u001b[39m \u001b[34mlubridate\u001b[39m 1.9.3     \u001b[32mv\u001b[39m \u001b[34mtidyr    \u001b[39m 1.3.1\n",
      "\u001b[32mv\u001b[39m \u001b[34mpurrr    \u001b[39m 1.0.2     \n",
      "-- \u001b[1mConflicts\u001b[22m ------------------------------------------ tidyverse_conflicts() --\n",
      "\u001b[31mx\u001b[39m \u001b[34mdplyr\u001b[39m::\u001b[32mfilter()\u001b[39m masks \u001b[34mstats\u001b[39m::filter()\n",
      "\u001b[31mx\u001b[39m \u001b[34mdplyr\u001b[39m::\u001b[32mlag()\u001b[39m    masks \u001b[34mstats\u001b[39m::lag()\n",
      "\u001b[36mi\u001b[39m Use the conflicted package (\u001b[3m\u001b[34m<http://conflicted.r-lib.org/>\u001b[39m\u001b[23m) to force all conflicts to become errors\n",
      "Linking to GEOS 3.9.1, GDAL 3.2.1, PROJ 7.2.1; sf_use_s2() is TRUE\n",
      "\n",
      "Loading required package: spData\n",
      "\n",
      "To access larger datasets in this package, install the spDataLarge\n",
      "package with: `install.packages('spDataLarge',\n",
      "repos='https://nowosad.github.io/drat/', type='source')`\n",
      "\n"
     ]
    }
   ],
   "source": [
    "##### Libraries\n",
    "# Eurostat\n",
    "library(eurostat)\n",
    "# Data manipulation and graphical libraries\n",
    "library(tidyverse)\n",
    "library(lubridate)\n",
    "library(ggpubr)\n",
    "library(ggplot2)\n",
    "# Spatial analysis libraries\n",
    "library(sf)\n",
    "library(spdep)"
   ]
  },
  {
   "cell_type": "code",
   "execution_count": 2,
   "metadata": {
    "vscode": {
     "languageId": "r"
    }
   },
   "outputs": [
    {
     "data": {
      "text/html": [
       "'c:/Users/paulo/OneDrive/ONEDRIVE_CLOUD_DISK/TRABALHO_AULAS/AL20242025/2SEM/ETE_2425/TP/projETE2425/notebooks/workshop_R'"
      ],
      "text/latex": [
       "'c:/Users/paulo/OneDrive/ONEDRIVE\\_CLOUD\\_DISK/TRABALHO\\_AULAS/AL20242025/2SEM/ETE\\_2425/TP/projETE2425/notebooks/workshop\\_R'"
      ],
      "text/markdown": [
       "'c:/Users/paulo/OneDrive/ONEDRIVE_CLOUD_DISK/TRABALHO_AULAS/AL20242025/2SEM/ETE_2425/TP/projETE2425/notebooks/workshop_R'"
      ],
      "text/plain": [
       "[1] \"c:/Users/paulo/OneDrive/ONEDRIVE_CLOUD_DISK/TRABALHO_AULAS/AL20242025/2SEM/ETE_2425/TP/projETE2425/notebooks/workshop_R\""
      ]
     },
     "metadata": {},
     "output_type": "display_data"
    }
   ],
   "source": [
    "getwd()"
   ]
  },
  {
   "cell_type": "code",
   "execution_count": 3,
   "metadata": {
    "vscode": {
     "languageId": "r"
    }
   },
   "outputs": [
    {
     "name": "stdout",
     "output_type": "stream",
     "text": [
      "tibble [23,933 x 80] (S3: tbl_df/tbl/data.frame)\n",
      " $ NUTS0_Code               : chr [1:23933] \"AT\" \"AT\" \"AT\" \"AT\" ...\n",
      " $ NUTS0_Name               : chr [1:23933] \"Österreich\" \"Österreich\" \"Österreich\" \"Österreich\" ...\n",
      " $ NUTS1_Code               : chr [1:23933] \"AT1\" \"AT1\" \"AT1\" \"AT1\" ...\n",
      " $ NUTS1_Name               : chr [1:23933] \"Ostösterreich\" \"Ostösterreich\" \"Ostösterreich\" \"Ostösterreich\" ...\n",
      " $ NUTS2_Code               : chr [1:23933] \"AT11\" \"AT11\" \"AT11\" \"AT11\" ...\n",
      " $ NUTS2_Name               : chr [1:23933] \"Burgenland\" \"Burgenland\" \"Burgenland\" \"Burgenland\" ...\n",
      " $ NUTS3_Code               : chr [1:23933] \"AT111\" \"AT111\" \"AT111\" \"AT111\" ...\n",
      " $ NUTS3_Name               : chr [1:23933] \"Mittelburgenland\" \"Mittelburgenland\" \"Mittelburgenland\" \"Mittelburgenland\" ...\n",
      " $ NUTS3_UrbRur             : chr [1:23933] \"predominantly rural\" \"predominantly rural\" \"predominantly rural\" \"predominantly rural\" ...\n",
      " $ NUTS3_Remoteness         : chr [1:23933] \"predominantly rural, close to a city\" \"predominantly rural, close to a city\" \"predominantly rural, close to a city\" \"predominantly rural, close to a city\" ...\n",
      " $ NUTS3_Metropol           : chr [1:23933] \"Non metropolitan\" \"Non metropolitan\" \"Non metropolitan\" \"Non metropolitan\" ...\n",
      " $ NUTS3_Coastal            : chr [1:23933] \"non-coastal\" \"non-coastal\" \"non-coastal\" \"non-coastal\" ...\n",
      " $ NUTS3_Mountain           : chr [1:23933] \"Other regions\" \"Other regions\" \"Other regions\" \"Other regions\" ...\n",
      " $ NUTS3_Border             : chr [1:23933] \"Border regions\" \"Border regions\" \"Border regions\" \"Border regions\" ...\n",
      " $ NUTS3_LandSurface_km2    : num [1:23933] 694 694 694 694 694 694 694 694 694 694 ...\n",
      " $ NUTS3_TotSurface_km2     : num [1:23933] 701 701 701 701 701 701 701 701 701 701 ...\n",
      " $ Year                     : num [1:23933] 2000 2001 2002 2003 2004 ...\n",
      " $ GDP_Mln_Eur              : num [1:23933] 597 627 627 675 676 ...\n",
      " $ GDP_Mln_PPS              : num [1:23933] 547 562 572 624 629 ...\n",
      " $ Pop_dens_km2             : num [1:23933] 54.6 54.3 54.2 54.1 54 53.8 53.8 53.8 54 54 ...\n",
      " $ Pop_F_Less15             : num [1:23933] 2744 2734 2772 2737 2645 ...\n",
      " $ Pop_F_Over65             : num [1:23933] 4620 4625 4607 4638 4633 ...\n",
      " $ Pop_F_Tot                : num [1:23933] 19317 19322 19351 19292 19191 ...\n",
      " $ Pop_F_Y15-64             : num [1:23933] 11948 11941 11972 11917 11913 ...\n",
      " $ Pop_M_Less15             : num [1:23933] 2774 2766 2775 2784 2750 ...\n",
      " $ Pop_M_Over65             : num [1:23933] 2913 2925 2896 2912 2980 ...\n",
      " $ Pop_M_Tot                : num [1:23933] 18417 18410 18427 18411 18449 ...\n",
      " $ Pop_M_Y15-64             : num [1:23933] 12739 12731 12756 12715 12719 ...\n",
      " $ Pop_T_Less15             : num [1:23933] 5518 5500 5547 5521 5395 ...\n",
      " $ Pop_T_Over65             : num [1:23933] 7532 7550 7503 7550 7613 ...\n",
      " $ Pop_T_Tot                : num [1:23933] 37892 37732 37778 37703 37640 ...\n",
      " $ Pop_T_Y15-64             : num [1:23933] 24687 24672 24728 24632 24632 ...\n",
      " $ PopActiveComp_1_9_Empl   : num [1:23933] 844 844 844 844 844 ...\n",
      " $ PopActiveComp_Over10_Empl: num [1:23933] 161 161 161 161 161 ...\n",
      " $ PopActiveComp_All        : num [1:23933] 1835 1835 1835 1835 1835 ...\n",
      " $ Employed_A_Ths           : num [1:23933] 1.8 1.7 1.6 1.6 1.5 1.4 1.3 1.3 1.2 1.1 ...\n",
      " $ Employed_B_E_Ths         : num [1:23933] 2.4 2.4 2.5 2.4 2.6 2.5 2.6 2.6 2.8 2.6 ...\n",
      " $ Employed_C_Ths           : num [1:23933] 2.1 2.2 2.2 2.2 2.3 2.2 2.3 2.3 2.5 2.3 ...\n",
      " $ Employed_F_Ths           : num [1:23933] 1.8 1.8 1.7 1.7 1.7 1.7 1.8 1.9 1.8 1.8 ...\n",
      " $ Employed_G_I_Ths         : num [1:23933] NA NA NA NA NA NA NA NA NA NA ...\n",
      " $ Employed_J_Ths           : num [1:23933] NA NA NA NA NA NA NA NA NA NA ...\n",
      " $ Employed_K_Ths           : num [1:23933] NA NA NA NA NA NA NA NA NA NA ...\n",
      " $ Employed_L_Ths           : num [1:23933] NA NA NA NA NA NA NA NA NA NA ...\n",
      " $ Employed_M_N_Ths         : num [1:23933] NA NA NA NA NA NA NA NA NA NA ...\n",
      " $ Employed_O_Q_Ths         : num [1:23933] NA NA NA NA NA NA NA NA NA NA ...\n",
      " $ Employed_R_U_Ths         : num [1:23933] NA NA NA NA NA NA NA NA NA NA ...\n",
      " $ Employed_Tot_Ths         : num [1:23933] 12.7 12.8 12.8 12.8 12.8 12.8 13 13.1 13.2 13.1 ...\n",
      " $ Employed_1_9_Empl        : num [1:23933] 3113 3113 3113 3113 3113 ...\n",
      " $ Employed_Over10_Empl     : num [1:23933] 5506 5506 5506 5506 5506 ...\n",
      " $ Employed_All             : num [1:23933] 9361 9361 9361 9361 9361 ...\n",
      " $ Employees_A_Ths          : num [1:23933] 0.1 0.1 0.1 0.2 0.2 0.2 0.2 0.2 0.2 0.2 ...\n",
      " $ Employees_B_E_Ths        : num [1:23933] 2.3 2.3 2.3 2.3 2.4 2.4 2.4 2.5 2.6 2.5 ...\n",
      " $ Employees_C_Ths          : num [1:23933] 2 2 2.1 2.1 2.2 2.1 2.2 2.2 2.4 2.2 ...\n",
      " $ Employees_F_Ths          : num [1:23933] 1.7 1.7 1.6 1.5 1.5 1.6 1.6 1.7 1.7 1.6 ...\n",
      " $ Employees_G_I_Ths        : num [1:23933] NA NA NA NA NA NA NA NA NA NA ...\n",
      " $ Employees_J_Ths          : num [1:23933] NA NA NA NA NA NA NA NA NA NA ...\n",
      " $ Employees_K_Ths          : num [1:23933] NA NA NA NA NA NA NA NA NA NA ...\n",
      " $ Employees_L_Ths          : num [1:23933] NA NA NA NA NA NA NA NA NA NA ...\n",
      " $ Employees_M_N_Ths        : num [1:23933] NA NA NA NA NA NA NA NA NA NA ...\n",
      " $ Employees_O_Q_Ths        : num [1:23933] NA NA NA NA NA NA NA NA NA NA ...\n",
      " $ Employees_R_U_Ths        : num [1:23933] NA NA NA NA NA NA NA NA NA NA ...\n",
      " $ Employees_Tot_Ths        : num [1:23933] 10 10.1 10.2 10.2 10.3 10.4 10.6 10.8 10.9 10.9 ...\n",
      " $ Employees_1_9_Empl       : num [1:23933] 2416 2416 2416 2416 2416 ...\n",
      " $ Employees_Over10_Empl    : num [1:23933] 5443 5443 5443 5443 5443 ...\n",
      " $ Employees_All            : num [1:23933] 7859 7859 7859 7859 7859 ...\n",
      " $ GVA_A_Mln_Eur            : num [1:23933] 36 45 37 55 45 34 37 47 33 31 ...\n",
      " $ GVA_B_E_Mln_Eur          : num [1:23933] 111 119 117 129 119 136 136 137 134 141 ...\n",
      " $ GVA_C_Mln_Eur            : num [1:23933] 85 96 92 95 92 110 111 112 109 115 ...\n",
      " $ GVA_F_Mln_Eur            : num [1:23933] 77 77 84 93 107 86 100 100 103 96 ...\n",
      " $ GVA_G_I_Mln_Eur          : num [1:23933] NA NA NA NA NA NA NA NA NA NA ...\n",
      " $ GVA_J_Mln_Eur            : num [1:23933] NA NA NA NA NA NA NA NA NA NA ...\n",
      " $ GVA_K_Mln_Eur            : num [1:23933] NA NA NA NA NA NA NA NA NA NA ...\n",
      " $ GVA_L_Mln_Eur            : num [1:23933] NA NA NA NA NA NA NA NA NA NA ...\n",
      " $ GVA_M_N_Mln_Eur          : num [1:23933] NA NA NA NA NA NA NA NA NA NA ...\n",
      " $ GVA_O_Q_Mln_Eur          : num [1:23933] NA NA NA NA NA NA NA NA NA NA ...\n",
      " $ GVA_R_U_Mln_Eur          : num [1:23933] NA NA NA NA NA NA NA NA NA NA ...\n",
      " $ GVA_Tot_Mln_Eur          : num [1:23933] 533 560 560 603 603 595 638 660 645 656 ...\n",
      " $ Longitude                : num [1:23933] 16.5 16.5 16.5 16.5 16.5 ...\n",
      " $ Latitude                 : num [1:23933] 47.5 47.5 47.5 47.5 47.5 ...\n",
      " $ geometry                 :sfc_MULTIPOLYGON of length 23933; first list element: List of 1\n",
      "  ..$ :List of 1\n",
      "  .. ..$ : num [1:13, 1:2] 16.7 16.7 16.4 16.4 16.3 ...\n",
      "  ..- attr(*, \"class\")= chr [1:3] \"XY\" \"MULTIPOLYGON\" \"sfg\"\n"
     ]
    }
   ],
   "source": [
    "##### Load spatial data\n",
    "load('./paolo_files/ESDA/Panel_Eurostat_UAA2025.RData')\n",
    "str(NUTS2021)\n",
    "\n",
    "\n"
   ]
  },
  {
   "cell_type": "code",
   "execution_count": 4,
   "metadata": {
    "vscode": {
     "languageId": "r"
    }
   },
   "outputs": [],
   "source": [
    "NUTS2021_sf <- st_as_sf(NUTS2021)"
   ]
  },
  {
   "cell_type": "code",
   "execution_count": 5,
   "metadata": {
    "vscode": {
     "languageId": "r"
    }
   },
   "outputs": [
    {
     "ename": "ERROR",
     "evalue": "Error in loadNamespace(x): there is no package called 'geojsonio'\n",
     "output_type": "error",
     "traceback": [
      "Error in loadNamespace(x): there is no package called 'geojsonio'\nTraceback:\n",
      "1. View(euro_sf)",
      "2. IRdisplay::display(x)",
      "3. prepare_mimebundle(obj, mimetypes, metadata, error_handler)",
      "4. filter_map(mimetypes, function(mime) {\n .     tryCatch(withCallingHandlers({\n .         if (!mime %in% names(repr::mime2repr)) \n .             stop(\"No repr_* for mimetype \", mime, \" in repr::mime2repr\")\n .         rpr <- repr::mime2repr[[mime]](obj)\n .         if (is.null(rpr)) \n .             return(NULL)\n .         prepare_content(is.raw(rpr), rpr)\n .     }, error = error_handler), error = outer_handler)\n . })",
      "5. Filter(Negate(is.null), sapply(x, f, simplify = simplify))",
      "6. unlist(lapply(x, f))",
      "7. lapply(x, f)",
      "8. sapply(x, f, simplify = simplify)",
      "9. lapply(X = X, FUN = FUN, ...)",
      "10. FUN(X[[i]], ...)",
      "11. tryCatch(withCallingHandlers({\n  .     if (!mime %in% names(repr::mime2repr)) \n  .         stop(\"No repr_* for mimetype \", mime, \" in repr::mime2repr\")\n  .     rpr <- repr::mime2repr[[mime]](obj)\n  .     if (is.null(rpr)) \n  .         return(NULL)\n  .     prepare_content(is.raw(rpr), rpr)\n  . }, error = error_handler), error = outer_handler)",
      "12. tryCatchList(expr, classes, parentenv, handlers)",
      "13. tryCatchOne(expr, names, parentenv, handlers[[1L]])"
     ]
    }
   ],
   "source": [
    "##### Extract geometries for continental Portugal\n",
    "View(euro_sf)\n",
    "PT_sf <- euro_sf %>%\n",
    "  filter(CNTR_CODE %in% c(\"PT\"),\n",
    "         Longitude > -15)"
   ]
  }
 ],
 "metadata": {
  "kernelspec": {
   "display_name": "R",
   "language": "R",
   "name": "ir"
  },
  "language_info": {
   "codemirror_mode": "r",
   "file_extension": ".r",
   "mimetype": "text/x-r-source",
   "name": "R",
   "pygments_lexer": "r",
   "version": "4.1.3"
  }
 },
 "nbformat": 4,
 "nbformat_minor": 2
}
