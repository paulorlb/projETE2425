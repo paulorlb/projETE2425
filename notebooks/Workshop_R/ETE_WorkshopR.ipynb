{
 "cells": [
  {
   "cell_type": "markdown",
   "metadata": {},
   "source": [
    "## CONFIG R\n",
    "R RHOME should be in our environment variables\n",
    "\n",
    "In addition: to create \"code blocks\" with an r kernel consider to install the IRKernel!\n",
    "For that, you should go to the terminal prompt (miniforge) and execute R, then, in R terminal you should install IRKernel with the following comand: \n",
    "\n",
    "First command:\n",
    "```\n",
    "R\n",
    "```\n",
    "Second command:\n",
    "``` R\n",
    "install.packages(\"IRkernel\", repos = \"https://cloud.r-project.org\")\n",
    "```\n",
    "Third command:\n",
    "``` R\n",
    "IRkernel::installspec(user = FALSE)\n",
    "```\n",
    "\n",
    "After this, it is possible to create a notebook with R kernel on the code blocks.\n",
    "\n",
    "\n",
    "Aditional note:\n",
    "\n",
    "In some cases, to install some r packages you need to install RTools in your PC. Please, verify the right version of Rtools for your installed R version.\n",
    "After install Rtools, you should ensure RTools it will be in your system variables. At least you neet to add a similar path to your system variables:\n",
    "C:\\rtools40\\usr\\bin\n",
    "C:\\rtools40\\ucrt64\\bin\n"
   ]
  },
  {
   "cell_type": "code",
   "execution_count": null,
   "metadata": {
    "vscode": {
     "languageId": "r"
    }
   },
   "outputs": [
    {
     "name": "stderr",
     "output_type": "stream",
     "text": [
      "also installing the dependencies 'curl', 'httr2'\n",
      "\n",
      "\n"
     ]
    },
    {
     "name": "stdout",
     "output_type": "stream",
     "text": [
      "\n",
      "  There are binary versions available but the source versions are later:\n",
      "         binary source needs_compilation\n",
      "curl      5.0.0  6.2.1              TRUE\n",
      "httr2     0.2.2  1.1.1             FALSE\n",
      "eurostat  3.8.2  4.0.0             FALSE\n",
      "\n",
      "  Binaries will be installed\n",
      "package 'curl' successfully unpacked and MD5 sums checked\n",
      "\n",
      "The downloaded binary packages are in\n",
      "\tC:\\Users\\paulo\\AppData\\Local\\Temp\\Rtmp2LqFO6\\downloaded_packages\n"
     ]
    },
    {
     "name": "stderr",
     "output_type": "stream",
     "text": [
      "installing the source packages 'httr2', 'eurostat'\n",
      "\n",
      "\n",
      "Warning message in install.packages(\"eurostat\", repos = \"https://cloud.r-project.org\"):\n",
      "\"installation of package 'httr2' had non-zero exit status\"\n",
      "Warning message in install.packages(\"eurostat\", repos = \"https://cloud.r-project.org\"):\n",
      "\"installation of package 'eurostat' had non-zero exit status\"\n"
     ]
    }
   ],
   "source": [
    "install.packages(\"eurostat\", repos = \"https://cloud.r-project.org\")"
   ]
  },
  {
   "cell_type": "code",
   "execution_count": 4,
   "metadata": {
    "vscode": {
     "languageId": "r"
    }
   },
   "outputs": [
    {
     "name": "stderr",
     "output_type": "stream",
     "text": [
      "-- \u001b[1mAttaching core tidyverse packages\u001b[22m ------------------------ tidyverse 2.0.0 --\n",
      "\u001b[32mv\u001b[39m \u001b[34mdplyr    \u001b[39m 1.1.4     \u001b[32mv\u001b[39m \u001b[34mreadr    \u001b[39m 2.1.5\n",
      "\u001b[32mv\u001b[39m \u001b[34mforcats  \u001b[39m 1.0.0     \u001b[32mv\u001b[39m \u001b[34mstringr  \u001b[39m 1.5.0\n",
      "\u001b[32mv\u001b[39m \u001b[34mggplot2  \u001b[39m 3.4.2     \u001b[32mv\u001b[39m \u001b[34mtibble   \u001b[39m 3.2.1\n",
      "\u001b[32mv\u001b[39m \u001b[34mlubridate\u001b[39m 1.9.3     \u001b[32mv\u001b[39m \u001b[34mtidyr    \u001b[39m 1.3.1\n",
      "\u001b[32mv\u001b[39m \u001b[34mpurrr    \u001b[39m 1.0.2     \n",
      "-- \u001b[1mConflicts\u001b[22m ------------------------------------------ tidyverse_conflicts() --\n",
      "\u001b[31mx\u001b[39m \u001b[34mdplyr\u001b[39m::\u001b[32mfilter()\u001b[39m masks \u001b[34mstats\u001b[39m::filter()\n",
      "\u001b[31mx\u001b[39m \u001b[34mdplyr\u001b[39m::\u001b[32mlag()\u001b[39m    masks \u001b[34mstats\u001b[39m::lag()\n",
      "\u001b[36mi\u001b[39m Use the conflicted package (\u001b[3m\u001b[34m<http://conflicted.r-lib.org/>\u001b[39m\u001b[23m) to force all conflicts to become errors\n"
     ]
    },
    {
     "ename": "ERROR",
     "evalue": "Error in library(ggpubr): there is no package called 'ggpubr'\n",
     "output_type": "error",
     "traceback": [
      "Error in library(ggpubr): there is no package called 'ggpubr'\nTraceback:\n",
      "1. library(ggpubr)"
     ]
    }
   ],
   "source": [
    "# Eurostat\n",
    "# library(eurostat)\n",
    "# Data manipulation and graphical libraries\n",
    "library(tidyverse)\n",
    "library(lubridate)\n",
    "library(ggpubr)\n",
    "library(ggplot2)\n",
    "# Spatial analysis libraries\n",
    "library(sf)\n",
    "library(spdep)"
   ]
  }
 ],
 "metadata": {
  "kernelspec": {
   "display_name": "R",
   "language": "R",
   "name": "ir"
  },
  "language_info": {
   "codemirror_mode": "r",
   "file_extension": ".r",
   "mimetype": "text/x-r-source",
   "name": "R",
   "pygments_lexer": "r",
   "version": "4.1.3"
  }
 },
 "nbformat": 4,
 "nbformat_minor": 2
}
