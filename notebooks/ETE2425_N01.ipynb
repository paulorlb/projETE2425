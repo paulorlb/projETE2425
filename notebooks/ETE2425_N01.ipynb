{
 "cells": [
  {
   "cell_type": "markdown",
   "metadata": {},
   "source": [
    "# CONFIGURAÇÕES"
   ]
  },
  {
   "cell_type": "code",
   "execution_count": 1,
   "metadata": {},
   "outputs": [],
   "source": [
    "import os\n",
    "import sys\n",
    "import importlib\n",
    "from pathlib import Path\n",
    "\n",
    "import pandas as pd\n",
    "import geopandas as gpd\n",
    "\n",
    "import numpy as np\n",
    "\n",
    "\n",
    "\n",
    "import matplotlib.pyplot as plt \n",
    "import contextily as cx"
   ]
  },
  {
   "cell_type": "code",
   "execution_count": 2,
   "metadata": {},
   "outputs": [],
   "source": [
    "\n",
    "\n",
    "gpd.options.io_engine = \"pyogrio\"\n",
    "os.environ[\"PYOGRIO_USE_ARROW\"] = \"1\"\n",
    "\n",
    "from pyogrio import list_layers"
   ]
  },
  {
   "cell_type": "markdown",
   "metadata": {},
   "source": [
    "## Definição da diretoria de trabalho na directoria raiz do projeto"
   ]
  },
  {
   "cell_type": "code",
   "execution_count": 3,
   "metadata": {},
   "outputs": [
    {
     "name": "stdout",
     "output_type": "stream",
     "text": [
      "Working directory set to: c:\\Users\\paulo\\OneDrive\\ONEDRIVE_CLOUD_DISK\\TRABALHO_AULAS\\AL20242025\\2SEM\\ETE_2425\\TP\\projETE2425\n"
     ]
    }
   ],
   "source": [
    "from pathlib import Path\n",
    "\n",
    "# Find the project root (assuming marker-based or script-relative path)\n",
    "def find_project_root(marker=\"README.md\"):\n",
    "    current_dir = Path.cwd()\n",
    "    while current_dir != current_dir.parent:  # Traverse up until root\n",
    "        if (current_dir / marker).exists():\n",
    "            return current_dir\n",
    "        current_dir = current_dir.parent\n",
    "    raise FileNotFoundError(f\"Marker '{marker}' not found in any parent directory.\")\n",
    "\n",
    "project_root = find_project_root()\n",
    "sys.path.append(str(project_root)) \n",
    "\n",
    "# Or use a relative path: project_root = Path(__file__).resolve().parent.parent\n",
    "os.chdir(project_root)\n",
    "print(f\"Working directory set to: {project_root}\")"
   ]
  },
  {
   "cell_type": "markdown",
   "metadata": {},
   "source": [
    "## ADD our own library to the libraries paths"
   ]
  },
  {
   "cell_type": "code",
   "execution_count": 4,
   "metadata": {},
   "outputs": [],
   "source": [
    "module_path = os.path.abspath(os.path.join(r'.\\src'))\n",
    "if module_path not in sys.path:\n",
    "    sys.path.append(module_path)"
   ]
  },
  {
   "cell_type": "code",
   "execution_count": 6,
   "metadata": {},
   "outputs": [
    {
     "data": {
      "text/plain": [
       "'c:\\\\Users\\\\paulo\\\\OneDrive\\\\ONEDRIVE_CLOUD_DISK\\\\TRABALHO_AULAS\\\\AL20242025\\\\2SEM\\\\ETE_2425\\\\TP\\\\projETE2425\\\\src'"
      ]
     },
     "execution_count": 6,
     "metadata": {},
     "output_type": "execute_result"
    }
   ],
   "source": [
    "module_path"
   ]
  },
  {
   "cell_type": "code",
   "execution_count": 7,
   "metadata": {},
   "outputs": [],
   "source": [
    "import utils.utils_ete2425"
   ]
  },
  {
   "cell_type": "markdown",
   "metadata": {},
   "source": [
    "## Diretorias de interesse"
   ]
  },
  {
   "cell_type": "markdown",
   "metadata": {},
   "source": [
    "# Ler dados de base"
   ]
  },
  {
   "cell_type": "code",
   "execution_count": 7,
   "metadata": {},
   "outputs": [
    {
     "name": "stdout",
     "output_type": "stream",
     "text": [
      "[['BGRI2021_1312' 'MultiPolygon']\n",
      " ['AE_AVRILH_MACRO_12UTs' 'MultiPolygon']\n",
      " ['AE_AVRILH_CAOP2018_FREG' 'MultiPolygon']\n",
      " ['WORLD_COUNTRIES' 'MultiPolygon']\n",
      " ['AE_AVRILH_MICRO_50UTs' 'MultiPolygon']\n",
      " ['AE_AVRILH_MESO_4UTs_M2' 'MultiPolygon']\n",
      " ['AE_AVRILH_CAOP2018_MUNI' 'MultiPolygon']\n",
      " ['BGRI2021_0105e0110' 'MultiPolygon']\n",
      " ['BGRI2011_0105e0110' 'MultiPolygon']\n",
      " ['gdf_BGRI2021_1312' 'MultiPolygon']\n",
      " ['gdf_CircEUlar_selectF' 'MultiPolygon']]\n"
     ]
    }
   ],
   "source": [
    "print(list_layers(r'.\\data\\input\\geopackage_ETE2425.gpkg'))"
   ]
  },
  {
   "cell_type": "code",
   "execution_count": null,
   "metadata": {},
   "outputs": [],
   "source": [
    "# Leitura da base de dados inicial\n",
    "\n",
    "# -------------------------------\n",
    "# NOTA SOBRE O CONJUNTO DE DADOS\n",
    "# -------------------------------\n",
    "# Dados para a construção de um modelo de \"Circularidade\" do ambiente urbano do municipio do Porto\n",
    "# Circularidade: consumo de energia e emissões de dioxido de carbono associadas \n",
    "# a i) consumo de energia \"operacional\" do parque habitacional, ii) iii) e iv) necessidades de energia nominal \n",
    "# para aquecimento, arrefecimento e produção de águas quentes sanitárias no parque habitacional, v) vi) consumo de energia \n",
    "# para satisfação das necessidades de mobilidade, em transporte individual e em transporte públicos e vii) viii) energia embutida\n",
    "# em materiais de construção da habitação e das infraestruturas urbanas.\n",
    "# Para explicar os padrões espaciais das variáveis de \"circularidade\" referidas anteriormente \n",
    "# considera-se dimensões associadas às características do parque habitacional, \n",
    "# da mobilidade, da morfologia urbana e das caracteristicas socioeconómicas da população residente.\n",
    "# -------------------------------\n",
    "\n",
    "circEUlar_gdb = gpd.read_file(r'.\\data\\input\\geopackage_ETE2425.gpkg', \n",
    "                             layer='gdf_CircEUlar_selectF')\n"
   ]
  },
  {
   "cell_type": "code",
   "execution_count": null,
   "metadata": {},
   "outputs": [],
   "source": [
    "circEUlar_gdb.columns"
   ]
  },
  {
   "cell_type": "markdown",
   "metadata": {},
   "source": [
    "## Dados administrativos nacionais "
   ]
  },
  {
   "cell_type": "code",
   "execution_count": null,
   "metadata": {},
   "outputs": [],
   "source": [
    "# A \"Carta Administrativa Oficial de Portugal\" pode ser obtida em: https://www.dgterritorio.gov.pt/cartografia/cartografia-tematica/caop?language=en\n",
    "\n",
    "print(list_layers(r'.\\data\\input' + r'\\CAOP2023\\Continente_CAOP2023.gpkg'))"
   ]
  },
  {
   "cell_type": "code",
   "execution_count": null,
   "metadata": {},
   "outputs": [],
   "source": [
    "shape_CAOP_MUNICIPIOS = gpd.read_file(r'.\\data\\input' + r'\\CAOP2023\\Continente_CAOP2023.gpkg', layer = 'Cont_Mun_CAOP2023' )"
   ]
  },
  {
   "cell_type": "code",
   "execution_count": null,
   "metadata": {},
   "outputs": [],
   "source": [
    "shape_CAOP_MUNICIPIOS.plot()"
   ]
  },
  {
   "cell_type": "code",
   "execution_count": null,
   "metadata": {},
   "outputs": [],
   "source": [
    "shape_CAOP_MUNICIPIOS.head()"
   ]
  },
  {
   "cell_type": "markdown",
   "metadata": {},
   "source": [
    "## Dados modelo CircEUlar"
   ]
  },
  {
   "cell_type": "code",
   "execution_count": null,
   "metadata": {},
   "outputs": [],
   "source": [
    "circEUlar_gdb.head(3)"
   ]
  },
  {
   "cell_type": "code",
   "execution_count": null,
   "metadata": {},
   "outputs": [],
   "source": [
    "# Leitura do ficheiro geoespacial referente à informação geométrica das subsecções estatísticas para o município do Porto\n",
    "shape_BGRI21_Porto = gpd.read_file(r'.\\data\\input\\geopackage_ETE2425.gpkg', \n",
    "                             layer='BGRI2021_1312')"
   ]
  },
  {
   "cell_type": "code",
   "execution_count": null,
   "metadata": {},
   "outputs": [],
   "source": [
    "shape_BGRI21_Porto.head(3)"
   ]
  },
  {
   "cell_type": "code",
   "execution_count": null,
   "metadata": {},
   "outputs": [],
   "source": [
    "shape_BGRI21_Porto.head(3)"
   ]
  },
  {
   "cell_type": "code",
   "execution_count": null,
   "metadata": {},
   "outputs": [],
   "source": [
    "shape_BGRI21_Porto.geometry[1]"
   ]
  },
  {
   "cell_type": "code",
   "execution_count": null,
   "metadata": {},
   "outputs": [],
   "source": [
    "shape_BGRI21_Porto.plot()"
   ]
  },
  {
   "cell_type": "code",
   "execution_count": null,
   "metadata": {},
   "outputs": [],
   "source": [
    "shape_BGRI21_Porto.crs"
   ]
  },
  {
   "cell_type": "code",
   "execution_count": null,
   "metadata": {},
   "outputs": [],
   "source": [
    "shape_BGRI21_Porto.shape"
   ]
  },
  {
   "cell_type": "code",
   "execution_count": null,
   "metadata": {},
   "outputs": [],
   "source": [
    "shape_BGRI21_Porto.columns"
   ]
  },
  {
   "cell_type": "code",
   "execution_count": null,
   "metadata": {},
   "outputs": [],
   "source": [
    "# Criar uma representação geométrica do municipio (polígono único)\n",
    "# Permite-nos ter uma representação dos limites da área de estudo\n",
    "# Atenção que mantém o mesmo referencial geográfico dos dados originais\n",
    "\n",
    "shape_MUNICIPIO_Porto = shape_BGRI21_Porto.dissolve('DTMN21')\n",
    "shape_MUNICIPIO_Porto.plot()"
   ]
  },
  {
   "cell_type": "code",
   "execution_count": null,
   "metadata": {},
   "outputs": [],
   "source": [
    "# Cálculo da área de cada subsecção estatística\n",
    "\n",
    "shape_BGRI21_Porto['AREA_SUBSECSAO'] = shape_BGRI21_Porto['geometry'].area"
   ]
  },
  {
   "cell_type": "code",
   "execution_count": null,
   "metadata": {},
   "outputs": [],
   "source": [
    "shape_BGRI21_Porto[['BGRI2021', 'AREA_SUBSECSAO', 'SHAPE_Area' ]].head(3)"
   ]
  },
  {
   "cell_type": "code",
   "execution_count": null,
   "metadata": {},
   "outputs": [],
   "source": [
    "# Projeção geográfica do sistema de referenciação fornecido na BGRI2021 (EPSG:3763) para o sistema de referenciação\n",
    "# utilizado na biblioteca \"contextily\" (EPSG:3857)\n",
    "# A biblioteca \"contextily\" permite a sobreposição de mapas base (imagens de satélite, mapas de ruas, etc) sobre\n",
    "# os nossos mapas / representações geométricas das nossas unidades de análise\n",
    "\n",
    "shape_BGRI21_Porto_reprojetct = shape_BGRI21_Porto.to_crs(epsg=3857)"
   ]
  },
  {
   "cell_type": "code",
   "execution_count": null,
   "metadata": {},
   "outputs": [],
   "source": [
    "# Adição de um mapa de fundo ao nosso mapa de subsecções estatísticas do Porto\n",
    "# Neste caso, associamos um mapa obtido no serviço OpenStreetMaps https://www.openstreetmap.org/\n",
    "\n",
    "ax = shape_BGRI21_Porto_reprojetct.plot(figsize=(10, 10), alpha=0.2, edgecolor=\"k\")\n",
    "cx.add_basemap(ax)"
   ]
  },
  {
   "cell_type": "markdown",
   "metadata": {},
   "source": [
    "## Combinar os dados da tabela CircEUlar com os dados geométricos"
   ]
  },
  {
   "cell_type": "code",
   "execution_count": null,
   "metadata": {},
   "outputs": [],
   "source": [
    "shape_BGRI21_Porto.dtypes"
   ]
  },
  {
   "cell_type": "code",
   "execution_count": null,
   "metadata": {},
   "outputs": [],
   "source": [
    "circEUlar_gdb.dtypes"
   ]
  },
  {
   "cell_type": "code",
   "execution_count": null,
   "metadata": {},
   "outputs": [],
   "source": [
    "# Sendo a nossa unidade de análise a subsecção estatística\n",
    "# Iremos utilizar o identificador geográfico da unidade geográfica \"subsecção estatística\"\n",
    "# fornecido pela variável \"BGRI2021\" (combinação hierárquica de código de municipio, freguesia, secção e subsecção estatística) \n",
    "# para juntar a informação geoespacial (representação geométrica) com a informação alfanumérica da base de dados \"circEUlar_db\"\n",
    "# Esta operação é baseada na combinação de tabelas usando a \"chave\" única definida pelo identificador geográfico \"BGRI2021\"\n",
    "# Como o identificador geográfico é um código alfanumético, deve considerar-se definir este código\n",
    "# como uma variável do tipo \"String\" em ambas as tabelas, por forma a melhor garantir a correta junção das tabelas\n",
    "\n",
    "\n",
    "circEUlar_gdb['BGRI2021'] = circEUlar_gdb['BGRI2021'].astype(str)"
   ]
  },
  {
   "cell_type": "code",
   "execution_count": null,
   "metadata": {},
   "outputs": [],
   "source": [
    "circEUlar_gdb.dtypes"
   ]
  },
  {
   "cell_type": "code",
   "execution_count": null,
   "metadata": {},
   "outputs": [],
   "source": [
    "shape_BGRI21_Porto_CircEUlar = circEUlar_gdb.merge(shape_BGRI21_Porto.drop(columns=['geometry']), left_on = 'BGRI2021', right_on = 'BGRI2021', how = 'left')\n",
    "\n"
   ]
  },
  {
   "cell_type": "code",
   "execution_count": null,
   "metadata": {},
   "outputs": [],
   "source": [
    "shape_BGRI21_Porto_CircEUlar.shape"
   ]
  },
  {
   "cell_type": "code",
   "execution_count": null,
   "metadata": {},
   "outputs": [],
   "source": [
    "shape_BGRI21_Porto_CircEUlar.columns"
   ]
  },
  {
   "cell_type": "code",
   "execution_count": null,
   "metadata": {},
   "outputs": [],
   "source": [
    "shape_BGRI21_Porto_CircEUlar.head(3)\n",
    "\n"
   ]
  },
  {
   "cell_type": "markdown",
   "metadata": {},
   "source": [
    "# Análise exploratória (visualização de dados geográficos - POLIGONOS)"
   ]
  },
  {
   "cell_type": "markdown",
   "metadata": {},
   "source": [
    "Os cartogramas constituem um instrumento fundamental em ciência de dados com dados espaciais, ao permiti explorar poteniciais padrões de distribuição geográfica das variáveis de interesse. \n",
    "Nos cartogramas podemos representar qualquer um dos objetos de análise e suas representações (ponto, linhas, polígonos) bem como podemos sobrepor vários tipos de objectos diferentes.\n",
    "Uma das formas básicas de expandirmos os dados de base passa pela integração nos cartogramas de dados espaciais comuns, como é o caso das unidades político administrativas. \n",
    "A integração destes dados adicionais permite-nos observar padrões geográficos de duas formas:\n",
    "- sobreposição de camadas para visualização, combinando uma camada com os dados iniciais e sua representação geométrica e outras camadas com as representações geométricas dos dados espaciais adicionais (por exemplo, adicionando limites administrativis).\n",
    "- combinação de dados na tabela e informação (estatística) sumária condicional a uma dada divisão territorial (por exemplo, agregar e representar dados de uma variável como o consumo de energia para uma unidade geográfica distinta da original) \n",
    "\n",
    "A visualização de dados recorrendo a cartogramas beneficia da aplicação de técnicas simples de classificação, permitindo reduzir a carga cognitiva envolvida na analise de informação e fornecendo uma forma expedita de explorar os dados, incluindo a sua complexidade espacial. No entanto, a eficácia de um cartograma é condicional à escolha do esquema de classificação adotado e do conjunto de opções de desenho consideradas (por exemplo a cor ou estratégia de simbolização adotada). \n",
    "\n",
    "Nesta secção procuraremos explorar alguns destes detalhes, as suas implicações e o papel destas técnicas e ferramentas na estatística espacial. "
   ]
  },
  {
   "cell_type": "code",
   "execution_count": null,
   "metadata": {},
   "outputs": [],
   "source": [
    "figura, ax = plt.subplots(1, figsize=(9, 9))\n",
    "shape_BGRI21_Porto_CircEUlar.plot(ax=ax, column='HousingPrice', \n",
    "                               legend=True) \n",
    "ax.set_axis_off()\n",
    "ax.set_title('Preço €/m2 de transação de habitações (2023)')\n",
    "plt.axis('equal')\n",
    "plt.show()"
   ]
  },
  {
   "cell_type": "markdown",
   "metadata": {},
   "source": [
    "## Notas sobre classificação dos dados para visualização\n",
    "\n",
    "A classificação de dados para visualização constitui um problema de particionar os valores dos atributos em classes mutuamente exclusivas e exaustivas. A estratégia de partição é condicional à escala de medição do atributo em questão. Para atributos quantitativos (escalas ordinais, de intervalo, de razão) as classes terão uma ordenação explícita.\n",
    "Mais formalmente, o problema de classificação é definir os limites de classe tal que:\n",
    "$$\n",
    "c_j < y_i \\le  c_{j+1} \\ \\forall y_i \\in C_{j}\n",
    "$$\n",
    "\n",
    "- onde $y_i$ é o valor do atributo, com localização espacial  $i$ (no caso de cartogramas com limites admistrativos, este índice corresponde à unidade administrativa; no caso de cartogramas de objetos de análise, este índice corresponde especificamente à localização desse mesmo objeto; note-se que os limites administrativos podem também ser considerados os nossos objetos de análise - tudo depende da formulação do problema.\n",
    "- $j$ é o índice da classe \n",
    "- e $c_j$ representa o limite inferior do intervalo $j$.\n",
    "\n",
    "Para operacionalizar este objetivo o pacote Paysal disponibiliza a livraria Mapclassify, devendo ser acedida a [documentação oficial](https://pysal.org/mapclassify/api.html)"
   ]
  },
  {
   "cell_type": "code",
   "execution_count": null,
   "metadata": {},
   "outputs": [],
   "source": [
    "# https://pysal.org/mapclassify/api.html\n",
    "# pysal.viz »» mapclassify \n",
    "import mapclassify as mc\n",
    "\n",
    "import seaborn as sns"
   ]
  },
  {
   "cell_type": "code",
   "execution_count": null,
   "metadata": {},
   "outputs": [],
   "source": [
    "shape_BGRI21_Porto_CircEUlar['HousingPrice'].describe().round(1)"
   ]
  },
  {
   "cell_type": "markdown",
   "metadata": {},
   "source": [
    "\n",
    "A visualização dos padrões geográficos das variáveis constitui um elemento chave na análise exploratória dos dados espacias.\n",
    "No entanto, a visualização requer a configuração de paletes de cor para descrever as características marcantes dos dados. Importa assim perceber a distribuição dos dados e fornecer uma palete de cores que nos descreva as propriedades mais marcantes dessa distribuição.\n",
    "\n",
    "Importa assim conjugar a exploração gráfica da distribuição dos dados - para a qual recorremos à livraria mapclassify e seaborn - bem como a sua visualização geográfica."
   ]
  },
  {
   "cell_type": "code",
   "execution_count": null,
   "metadata": {},
   "outputs": [],
   "source": [
    "# Intervalos iguais\n",
    "\n",
    "classi = mc.EqualInterval(shape_BGRI21_Porto_CircEUlar['HousingPrice'], k=7)\n",
    "classi"
   ]
  },
  {
   "cell_type": "code",
   "execution_count": null,
   "metadata": {},
   "outputs": [],
   "source": [
    "# Quantiles\n",
    "\n",
    "classi_quant = mc.Quantiles(shape_BGRI21_Porto_CircEUlar['HousingPrice'], k=5)\n",
    "classi_quant"
   ]
  },
  {
   "cell_type": "code",
   "execution_count": null,
   "metadata": {},
   "outputs": [],
   "source": [
    "classi_quant.bins"
   ]
  },
  {
   "cell_type": "code",
   "execution_count": null,
   "metadata": {},
   "outputs": [],
   "source": [
    "# Código padrão - usa a livraria seaborn (extende a matplotlib )\n",
    "# https://seaborn.pydata.org/tutorial.html\n",
    "# Set up the figure\n",
    "f, ax = plt.subplots(1)\n",
    "# Plot the kernel density estimation (KDE)\n",
    "sns.kdeplot(shape_BGRI21_Porto_CircEUlar['HousingPrice'], fill=True)\n",
    "# Add a blue tick for every value at the bottom of the plot (rugs)\n",
    "sns.rugplot(shape_BGRI21_Porto_CircEUlar['HousingPrice'], alpha=0.5)\n",
    "# Loop over each break point and plot a vertical red line\n",
    "for cut in classi_quant.bins:\n",
    "    plt.axvline(cut, color='red', linewidth=0.75)"
   ]
  },
  {
   "cell_type": "code",
   "execution_count": null,
   "metadata": {},
   "outputs": [],
   "source": [
    "#NOTAs: \n",
    "# note-se que agora temos de definir os argumentos column, scheme e cmap\n",
    "# o argumento «cmap» pode ser configurado seguindo esquemas predefinidos:\n",
    "# https://matplotlib.org/stable/gallery/color/colormap_reference.html\n",
    "\n",
    "\n",
    "#Usar a matplotlib para visualizar vários dados\n",
    "figura, ax = plt.subplots(figsize = (10,10) )\n",
    "ax.set_aspect('equal')\n",
    "shape_MUNICIPIO_Porto.plot(ax=ax, zorder=2, \n",
    "                             color='grey', \n",
    "                             edgecolor='black', linewidth=2,\n",
    "                            alpha = 0.3)\n",
    "\n",
    "shape_BGRI21_Porto_CircEUlar.plot(ax=ax,zorder=1,\n",
    "                      # marker=\"s\",\n",
    "                      column='HousingPrice', \n",
    "                      scheme='Quantiles', \n",
    "                      # k=7, \n",
    "                      cmap=plt.cm.Reds, \n",
    "                      linewidth=0 )"
   ]
  },
  {
   "cell_type": "code",
   "execution_count": null,
   "metadata": {},
   "outputs": [],
   "source": [
    "# Desvio padrão médio\n",
    "\n",
    "classi = mc.StdMean(shape_BGRI21_Porto_CircEUlar['HousingPrice'])\n",
    "classi"
   ]
  },
  {
   "cell_type": "code",
   "execution_count": null,
   "metadata": {},
   "outputs": [],
   "source": [
    "# Baseado na caixa de bigodes\n",
    "\n",
    "classi = mc.BoxPlot(shape_BGRI21_Porto_CircEUlar['HousingPrice'])\n",
    "classi"
   ]
  },
  {
   "cell_type": "code",
   "execution_count": null,
   "metadata": {},
   "outputs": [],
   "source": [
    "# Fisher Jenks\n",
    "\n",
    "classi = mc.FisherJenks(shape_BGRI21_Porto_CircEUlar['HousingPrice'])\n",
    "classi"
   ]
  },
  {
   "cell_type": "markdown",
   "metadata": {},
   "source": [
    "# Matriz de pesos e vizinhança W\n",
    "\n",
    "As matrizes de pesos espaciais e vizinhança são um instrumento analítico básico em dados espaciais, permitindo descrever as relações geográficas entre as unidades observacionais referenciadas espacialmente. \n",
    "Ao expressar a noções de proximidade, vizinhança, conexão espacial ou, especificamente, conexões geográficas, a matriz de pesos espaciais constituem um dispositivo essencial em qualquer etapa de análise de dados espaciais, sendo inclusive integrados na fase de modelação, sendo parte de uma variada família de modelos espaciais - como veremos mais à frente. \n",
    "\n",
    "Numa perspetiva exploratória, as relações espaciais entre um objeto de análise específico e aqueles, objetos do mesmo tipo, que se encontram (“na sua vizinhança”, “na sua proximidade”) ou outros objectos relevantes, também eles circundantes (“mercearias”, \"escola\", \"habitação dos avós\"). \n",
    "Para uma abordagem estatística a estas relações espaicias importa estabelecer mecanismos formais e estruturados que permitem determinar as relações entre todos os pares de observações e objetos considerados. Isto significa que é necessário construir uma topologia - uma estrutura matemática que expressa as relações geométricas e espaciais entre observações. Este elemento é essencial pois permite fornecer uma topologia única, aplicável a todas as observações , tornando possível uma análise integrada, no espaço, de todos os elementos e não só especificamente de um objeto espacial.\n",
    "\n",
    "Como facilmente se compreenderá, a construção e específicação deste dispositivo implica que toda a análise espacial subsequente está condicionada às especificações teóricas (concepções de \"espaço\") e matemáticas (formas de representar esse espaço - geralmente, implica questões de dimensionalidade e, especificamente, a escolha de uma métrica) que aqui sejam consideradas. \n",
    "\n",
    "Nesta seção abordaremos algumas das abordagens mais comuns na construção de matrizes de pesos espaciais (W). Iniciaremos a exploração pelas abordagens mais comuns e intuitivas, assentes explicitamente num espaço métrico - ou seja, onde a matriz de pesos deriva diretamente de medidas de distância (euclidiana) no espaço geográfico (cartesiano, da superfície terreste) como forma de estabelecer relações entre objetos. \n",
    "Em seguida, serão exploradas abordagens que tiram partido de propriedades topológicas de objetos espaciais representados como polígonos - especificamente, quando estes objetos de análise são uma qualquer divisão territorial do espaço geográfico, como é o caso das delimitações político administrativas. Iremos assim explorar abordagens de contiguidade / adjacência entre polígonos. Por fim, abordaremos alguns exemplos de técnicas mais sofisticadas, que combinam uma ou mais operações espaciais para derivar as relações de vizinhança entre as observações."
   ]
  },
  {
   "cell_type": "code",
   "execution_count": null,
   "metadata": {},
   "outputs": [],
   "source": [
    "import scipy "
   ]
  },
  {
   "cell_type": "code",
   "execution_count": null,
   "metadata": {},
   "outputs": [],
   "source": [
    "scipy.__version__"
   ]
  },
  {
   "cell_type": "code",
   "execution_count": null,
   "metadata": {},
   "outputs": [],
   "source": [
    "from pysal.lib import weights\n",
    "\n",
    "\n",
    "# # https://pysal.org/libpysal/api.html\n",
    "# from libpysal.weights.contiguity import Queen\n",
    "\n",
    "# from libpysal.cg import voronoi_frames"
   ]
  },
  {
   "cell_type": "markdown",
   "metadata": {},
   "source": [
    "## Exemplo (mais frequente): unidades de análise representadas por polígonos \n",
    "\n",
    "» Relações topológicas"
   ]
  },
  {
   "cell_type": "code",
   "execution_count": null,
   "metadata": {},
   "outputs": [],
   "source": [
    "shape_BGRI21_Porto_CircEUlar.head(3)"
   ]
  },
  {
   "cell_type": "code",
   "execution_count": null,
   "metadata": {},
   "outputs": [],
   "source": [
    "# Contiguidade Rook\n",
    "\n",
    "w_rook_shape_BGRI21_Porto_CircEUlar = weights.contiguity.Rook.from_dataframe(shape_BGRI21_Porto_CircEUlar)"
   ]
  },
  {
   "cell_type": "code",
   "execution_count": null,
   "metadata": {},
   "outputs": [],
   "source": [
    "shape_BGRI21_Porto_CircEUlar['HousingPrice'].describe()"
   ]
  },
  {
   "cell_type": "code",
   "execution_count": null,
   "metadata": {},
   "outputs": [],
   "source": [
    "shape_BGRI21_Porto_CircEUlar['HousingPrice'].isna().sum()"
   ]
  },
  {
   "cell_type": "markdown",
   "metadata": {},
   "source": [
    "### Usar a matriz de pesos espaciais para imputação de dados\n",
    "NOTAS: <br>\n",
    "a) como temos unidades espaciais com dados omissos em que (todos) os seus vizinhos também têm dados omissos, uma solução é implementar várias iterações do algoritmo de imputação de dados até obtermos a completa imputação dos dados <br>\n",
    "b) no caso da solução aqui apresentada, a imputação baseia-se na média dos valores dos vizinhos que têm valores atríbuidos (em cada iteração), mas poderíamos considerar outras abordagens, como a imputação baseada em regressão linear, por exemplo."
   ]
  },
  {
   "cell_type": "code",
   "execution_count": null,
   "metadata": {},
   "outputs": [],
   "source": [
    "\n",
    "\n",
    "shape_BGRI21_Porto_CircEUlar['HousingPrice_Imputation'] = shape_BGRI21_Porto_CircEUlar['HousingPrice_Ori']\n",
    "\n",
    "\n",
    "# Apply the function to fill missing values\n",
    "while(shape_BGRI21_Porto_CircEUlar['HousingPrice_Imputation'].isna().sum() > 0):\n",
    "    shape_BGRI21_Porto_CircEUlar['HousingPrice_Imputation'] = shape_BGRI21_Porto_CircEUlar.apply(lambda row: utils.utils_ete2425.fill_missing_with_neighborhood_avg(row, w=w_rook_shape_BGRI21_Porto_CircEUlar, shape=shape_BGRI21_Porto_CircEUlar, colname='HousingPrice_Imputation'), axis=1)"
   ]
  },
  {
   "cell_type": "code",
   "execution_count": null,
   "metadata": {},
   "outputs": [],
   "source": [
    "shape_BGRI21_Porto_CircEUlar['HousingPrice'].describe()"
   ]
  },
  {
   "cell_type": "code",
   "execution_count": null,
   "metadata": {},
   "outputs": [],
   "source": [
    "shape_BGRI21_Porto_CircEUlar['HousingPrice_Imputation'].describe()"
   ]
  },
  {
   "cell_type": "code",
   "execution_count": null,
   "metadata": {},
   "outputs": [],
   "source": [
    "shape_BGRI21_Porto_CircEUlar['HousingPrice_Imputation'].isna().sum()"
   ]
  },
  {
   "cell_type": "code",
   "execution_count": null,
   "metadata": {},
   "outputs": [],
   "source": [
    "classi_quant = mc.Quantiles(shape_BGRI21_Porto_CircEUlar['HousingPrice_Imputation'], k=5)\n",
    "classi_quant"
   ]
  },
  {
   "cell_type": "code",
   "execution_count": null,
   "metadata": {},
   "outputs": [],
   "source": [
    "figura, ax = plt.subplots(figsize = (10,10) )\n",
    "ax.set_aspect('equal')\n",
    "\n",
    "shape_MUNICIPIO_Porto.plot(ax=ax, zorder=2, \n",
    "                             color='grey', \n",
    "                             edgecolor='black', linewidth=2,\n",
    "                            alpha = 0.3)\n",
    "\n",
    "shape_BGRI21_Porto_CircEUlar.plot(ax=ax,zorder=1,\n",
    "                      # marker=\"s\",\n",
    "                      column='HousingPrice_Imputation', \n",
    "                      scheme='Quantiles', \n",
    "                      # k=7, \n",
    "                      cmap= \"cividis\", \n",
    "                      linewidth=0 )\n",
    "\n"
   ]
  },
  {
   "cell_type": "markdown",
   "metadata": {},
   "source": [
    "# Dependência espacial"
   ]
  },
  {
   "cell_type": "code",
   "execution_count": null,
   "metadata": {},
   "outputs": [],
   "source": [
    "# Compute spatial lag\n",
    "\n",
    "precoM2_lag = weights.lag_spatial(w_rook_shape_BGRI21_Porto_CircEUlar, shape_BGRI21_Porto_CircEUlar['HousingPrice_Imputation'])\n",
    "shape_BGRI21_Porto_CircEUlar[\"HousingPrice_Imputation_lag\"] = precoM2_lag"
   ]
  },
  {
   "cell_type": "code",
   "execution_count": null,
   "metadata": {},
   "outputs": [],
   "source": [
    "# \"Normalizar\" (cálculo de z-scores) as variáveis (original e desfasada)\n",
    "shape_BGRI21_Porto_CircEUlar['HousingPrice_Imputation_std'] = ( shape_BGRI21_Porto_CircEUlar['HousingPrice_Imputation'] - shape_BGRI21_Porto_CircEUlar['HousingPrice_Imputation'].mean() )\\\n",
    "                    / shape_BGRI21_Porto_CircEUlar['HousingPrice_Imputation'].std()\n",
    "shape_BGRI21_Porto_CircEUlar['HousingPrice_Imputation_lag_std'] = ( shape_BGRI21_Porto_CircEUlar['HousingPrice_Imputation_Imputation_lag'] - shape_BGRI21_Porto_CircEUlar['HousingPrice_Imputation_lag'].mean() )\\\n",
    "                    / shape_BGRI21_Porto_CircEUlar['HousingPrice_Imputation_lag'].std()"
   ]
  },
  {
   "cell_type": "code",
   "execution_count": null,
   "metadata": {},
   "outputs": [],
   "source": [
    "# Moran Plot\n",
    "f, ax = plt.subplots(1, figsize=(6, 6))\n",
    "sns.regplot(x='HousingPrice_Imputation_std', y='HousingPrice_Imputation_std_lag_std', \n",
    "                ci=None, data=shape_BGRI21_Porto_CircEUlar, line_kws={'color':'r'})\n",
    "ax.axvline(0, c='k', alpha=0.5)\n",
    "ax.axhline(0, c='k', alpha=0.5)\n",
    "ax.set_title('Moran Plot')\n",
    "plt.show()"
   ]
  },
  {
   "cell_type": "markdown",
   "metadata": {},
   "source": [
    "## Autocorrelação espacial - Global"
   ]
  },
  {
   "cell_type": "code",
   "execution_count": null,
   "metadata": {},
   "outputs": [],
   "source": [
    "# from pysal.explore import esda\n",
    "from esda.moran import Moran\n",
    "from esda.moran import Moran_Local\n",
    "\n",
    "# https://splot.readthedocs.io/en/latest/api.html\n",
    "# pysal.viz »» splot [splot.esda] (tem métodos para esda e outras componentes - ver api)\n",
    "from splot.esda import moran_scatterplot\n",
    "from splot.esda import lisa_cluster\n",
    "from splot.esda import plot_moran\n"
   ]
  },
  {
   "cell_type": "code",
   "execution_count": null,
   "metadata": {},
   "outputs": [],
   "source": [
    "moran_HousingTransactionPrice_WRook = Moran(shape_BGRI21_Porto_CircEUlar['HousingPrice_Imputation'], w_rook_shape_BGRI21_Porto_CircEUlar)\n",
    "moran_HousingTransactionPrice_WRook.I, moran_HousingTransactionPrice_WRook.p_sim"
   ]
  },
  {
   "cell_type": "markdown",
   "metadata": {},
   "source": [
    "## Autocorrelação espacial - Local"
   ]
  },
  {
   "cell_type": "code",
   "execution_count": null,
   "metadata": {},
   "outputs": [],
   "source": [
    "# calculate Moran_Local and plot\n",
    "moranLocal_HousingTransactionPrice_WRook = Moran_Local(shape_BGRI21_Porto_CircEUlar['HousingPrice_Imputation'], w_rook_shape_BGRI21_Porto_CircEUlar)"
   ]
  },
  {
   "cell_type": "code",
   "execution_count": null,
   "metadata": {},
   "outputs": [],
   "source": [
    "figura, ax = moran_scatterplot(moranLocal_HousingTransactionPrice_WRook, p=0.05)\n",
    "ax.set_xlabel('HousingTransactionPrice')\n",
    "ax.set_ylabel('Spatial Lag of HousingTransactionPrice')\n",
    "plt.show()"
   ]
  },
  {
   "cell_type": "code",
   "execution_count": null,
   "metadata": {},
   "outputs": [],
   "source": [
    "lisa_cluster(moranLocal_HousingTransactionPrice_WRook, shape_BGRI21_Porto_CircEUlar, p=0.05, figsize = (9,9))\n",
    "plt.show()"
   ]
  }
 ],
 "metadata": {
  "kernelspec": {
   "display_name": "geoanalysis",
   "language": "python",
   "name": "python3"
  },
  "language_info": {
   "codemirror_mode": {
    "name": "ipython",
    "version": 3
   },
   "file_extension": ".py",
   "mimetype": "text/x-python",
   "name": "python",
   "nbconvert_exporter": "python",
   "pygments_lexer": "ipython3",
   "version": "3.12.8"
  }
 },
 "nbformat": 4,
 "nbformat_minor": 2
}
